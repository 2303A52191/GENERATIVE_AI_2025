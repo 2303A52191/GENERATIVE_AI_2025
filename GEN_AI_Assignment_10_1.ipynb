{
  "nbformat": 4,
  "nbformat_minor": 0,
  "metadata": {
    "colab": {
      "provenance": [],
      "authorship_tag": "ABX9TyOG6DmLvHEF8Ys9yiWm8B3M",
      "include_colab_link": true
    },
    "kernelspec": {
      "name": "python3",
      "display_name": "Python 3"
    },
    "language_info": {
      "name": "python"
    }
  },
  "cells": [
    {
      "cell_type": "markdown",
      "metadata": {
        "id": "view-in-github",
        "colab_type": "text"
      },
      "source": [
        "<a href=\"https://colab.research.google.com/github/2303A52191/GENERATIVE_AI_2025/blob/main/GEN_AI_Assignment_10_1.ipynb\" target=\"_parent\"><img src=\"https://colab.research.google.com/assets/colab-badge.svg\" alt=\"Open In Colab\"/></a>"
      ]
    },
    {
      "cell_type": "code",
      "source": [
        "import tensorflow as tf\n",
        "from tensorflow.keras.datasets import mnist\n",
        "from tensorflow.keras.models import Sequential\n",
        "from tensorflow.keras.layers import Conv2D, MaxPooling2D, Flatten, Dense\n",
        "from tensorflow.keras.utils import to_categorical\n",
        "\n",
        "(x_train, y_train), (x_test, y_test) = mnist.load_data()\n",
        "\n",
        "x_train = x_train.reshape(-1, 28, 28, 1).astype('float32') / 255.0\n",
        "x_test = x_test.reshape(-1, 28, 28, 1).astype('float32') / 255.0\n",
        "y_train_cat = to_categorical(y_train, 10)\n",
        "y_test_cat = to_categorical(y_test, 10)\n",
        "\n",
        "x_train_small = x_train[:10000]\n",
        "y_train_cat_small = y_train_cat[:10000]\n",
        "\n",
        "model = Sequential([\n",
        "    Conv2D(16, kernel_size=(3,3), activation='relu', input_shape=(28, 28, 1)),\n",
        "    MaxPooling2D(pool_size=(2, 2)),\n",
        "    Conv2D(32, kernel_size=(3,3), activation='relu'),\n",
        "    MaxPooling2D(pool_size=(2, 2)),\n",
        "    Flatten(),\n",
        "    Dense(64, activation='relu'),\n",
        "    Dense(10, activation='softmax')\n",
        "])\n",
        "\n",
        "model.compile(optimizer='adam', loss='categorical_crossentropy', metrics=['accuracy'])\n",
        "\n",
        "history = model.fit(x_train_small, y_train_cat_small, epochs=10, batch_size=32, validation_data=(x_test, y_test_cat), verbose=2)\n",
        "\n",
        "train_loss, train_accuracy = model.evaluate(x_train_small, y_train_cat_small, verbose=0)\n",
        "test_loss, test_accuracy = model.evaluate(x_test, y_test_cat, verbose=0)\n",
        "\n",
        "print(f\"Training Accuracy: {train_accuracy:.4f}\")\n",
        "print(f\"Testing Accuracy: {test_accuracy:.4f}\")"
      ],
      "metadata": {
        "colab": {
          "base_uri": "https://localhost:8080/"
        },
        "id": "9Dgos9AHPnn-",
        "outputId": "5d5615ea-38c0-487e-cba0-a1e2eb4e9d13"
      },
      "execution_count": 1,
      "outputs": [
        {
          "output_type": "stream",
          "name": "stdout",
          "text": [
            "Downloading data from https://storage.googleapis.com/tensorflow/tf-keras-datasets/mnist.npz\n",
            "\u001b[1m11490434/11490434\u001b[0m \u001b[32m━━━━━━━━━━━━━━━━━━━━\u001b[0m\u001b[37m\u001b[0m \u001b[1m1s\u001b[0m 0us/step\n"
          ]
        },
        {
          "output_type": "stream",
          "name": "stderr",
          "text": [
            "/usr/local/lib/python3.11/dist-packages/keras/src/layers/convolutional/base_conv.py:107: UserWarning: Do not pass an `input_shape`/`input_dim` argument to a layer. When using Sequential models, prefer using an `Input(shape)` object as the first layer in the model instead.\n",
            "  super().__init__(activity_regularizer=activity_regularizer, **kwargs)\n"
          ]
        },
        {
          "output_type": "stream",
          "name": "stdout",
          "text": [
            "Epoch 1/10\n",
            "313/313 - 12s - 40ms/step - accuracy: 0.8588 - loss: 0.4757 - val_accuracy: 0.9557 - val_loss: 0.1530\n",
            "Epoch 2/10\n",
            "313/313 - 8s - 25ms/step - accuracy: 0.9606 - loss: 0.1338 - val_accuracy: 0.9703 - val_loss: 0.1000\n",
            "Epoch 3/10\n",
            "313/313 - 7s - 24ms/step - accuracy: 0.9725 - loss: 0.0897 - val_accuracy: 0.9727 - val_loss: 0.0835\n",
            "Epoch 4/10\n",
            "313/313 - 6s - 19ms/step - accuracy: 0.9794 - loss: 0.0686 - val_accuracy: 0.9736 - val_loss: 0.0818\n",
            "Epoch 5/10\n",
            "313/313 - 7s - 23ms/step - accuracy: 0.9848 - loss: 0.0493 - val_accuracy: 0.9734 - val_loss: 0.0838\n",
            "Epoch 6/10\n",
            "313/313 - 7s - 22ms/step - accuracy: 0.9863 - loss: 0.0407 - val_accuracy: 0.9732 - val_loss: 0.0865\n",
            "Epoch 7/10\n",
            "313/313 - 7s - 23ms/step - accuracy: 0.9906 - loss: 0.0307 - val_accuracy: 0.9764 - val_loss: 0.0733\n",
            "Epoch 8/10\n",
            "313/313 - 13s - 40ms/step - accuracy: 0.9917 - loss: 0.0249 - val_accuracy: 0.9745 - val_loss: 0.0814\n",
            "Epoch 9/10\n",
            "313/313 - 7s - 22ms/step - accuracy: 0.9936 - loss: 0.0188 - val_accuracy: 0.9799 - val_loss: 0.0720\n",
            "Epoch 10/10\n",
            "313/313 - 10s - 32ms/step - accuracy: 0.9967 - loss: 0.0120 - val_accuracy: 0.9748 - val_loss: 0.0832\n",
            "Training Accuracy: 0.9957\n",
            "Testing Accuracy: 0.9748\n"
          ]
        }
      ]
    }
  ]
}