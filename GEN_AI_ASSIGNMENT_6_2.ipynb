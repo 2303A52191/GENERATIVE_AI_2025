{
  "nbformat": 4,
  "nbformat_minor": 0,
  "metadata": {
    "colab": {
      "provenance": [],
      "authorship_tag": "ABX9TyP5YAoCF8kM15vv/kwvbefp",
      "include_colab_link": true
    },
    "kernelspec": {
      "name": "python3",
      "display_name": "Python 3"
    },
    "language_info": {
      "name": "python"
    }
  },
  "cells": [
    {
      "cell_type": "markdown",
      "metadata": {
        "id": "view-in-github",
        "colab_type": "text"
      },
      "source": [
        "<a href=\"https://colab.research.google.com/github/2303A52191/GENERATIVE_AI_2025/blob/main/GEN_AI_ASSIGNMENT_6_2.ipynb\" target=\"_parent\"><img src=\"https://colab.research.google.com/assets/colab-badge.svg\" alt=\"Open In Colab\"/></a>"
      ]
    },
    {
      "cell_type": "code",
      "execution_count": null,
      "metadata": {
        "colab": {
          "base_uri": "https://localhost:8080/"
        },
        "id": "f6UXMxdt_2E2",
        "outputId": "4eabd515-1740-438f-ce30-fca317b29c81"
      },
      "outputs": [
        {
          "output_type": "stream",
          "name": "stdout",
          "text": [
            "Train MSE: 0.0854492877567174\n",
            "Test MSE: 0.08697590265300897\n",
            "Predicted Price: 0.490642033651077\n"
          ]
        }
      ],
      "source": [
        "import numpy as np\n",
        "def relu(x):\n",
        "    return np.maximum(0, x)\n",
        "def relu_deriv(x):\n",
        "    return (x > 0).astype(float)\n",
        "\n",
        "def init_weights(layers):\n",
        "    np.random.seed(1)\n",
        "    w = [np.random.randn(layers[i], layers[i+1]) * 0.1 for i in range(len(layers)-1)]\n",
        "    b = [np.random.randn(1, layers[i+1]) * 0.1 for i in range(len(layers)-1)]\n",
        "    return w, b\n",
        "\n",
        "def forward(X, w, b):\n",
        "    a = [X]\n",
        "    for i in range(len(w)-1):\n",
        "        a.append(relu(np.dot(a[-1], w[i]) + b[i]))\n",
        "    a.append(np.dot(a[-1], w[-1]) + b[-1])\n",
        "    return a\n",
        "\n",
        "def backprop(X, y, w, b, lr):\n",
        "    a = forward(X, w, b)\n",
        "    err = y - a[-1]\n",
        "    d = [err]\n",
        "    for i in range(len(w)-1, 0, -1):\n",
        "        d.append(np.dot(d[-1], w[i].T) * relu_deriv(a[i]))\n",
        "    d.reverse()\n",
        "\n",
        "    for i in range(len(w)):\n",
        "        w[i] += np.dot(a[i].T, d[i]) * lr\n",
        "        b[i] += np.sum(d[i], axis=0, keepdims=True) * lr\n",
        "\n",
        "def train(X, y, layers, lr=0.001, epochs=150):\n",
        "    w, b = init_weights(layers)\n",
        "    for _ in range(epochs):\n",
        "        backprop(X, y, w, b, lr)\n",
        "    return w, b\n",
        "\n",
        "def predict(X, w, b):\n",
        "    return forward(X, w, b)[-1]\n",
        "\n",
        "def mse(y, y_pred):\n",
        "    return np.mean((y - y_pred) ** 2)\n",
        "\n",
        "X_train = np.random.rand(500, 10)\n",
        "y_train = np.random.rand(500, 1)\n",
        "\n",
        "X_test = np.random.rand(100, 10)\n",
        "y_test = np.random.rand(100, 1)\n",
        "\n",
        "layers = [10, 15, 20, 25, 20, 15, 1]\n",
        "w, b = train(X_train, y_train, layers, lr=0.001, epochs=150)\n",
        "\n",
        "train_mse = mse(y_train, predict(X_train, w, b))\n",
        "test_mse = mse(y_test, predict(X_test, w, b))\n",
        "\n",
        "print(\"Train MSE:\", train_mse)\n",
        "print(\"Test MSE:\", test_mse)\n",
        "\n",
        "new_data = np.random.rand(1, 10)\n",
        "predicted_price = predict(new_data, w, b)\n",
        "print(\"Predicted Price:\", predicted_price[0][0])"
      ]
    }
  ]
}