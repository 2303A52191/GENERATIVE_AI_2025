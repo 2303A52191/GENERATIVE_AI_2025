{
  "nbformat": 4,
  "nbformat_minor": 0,
  "metadata": {
    "colab": {
      "provenance": [],
      "authorship_tag": "ABX9TyMcMXKlZVq09jIQp4hCEzJN"
    },
    "kernelspec": {
      "name": "python3",
      "display_name": "Python 3"
    },
    "language_info": {
      "name": "python"
    }
  },
  "cells": [
    {
      "cell_type": "code",
      "execution_count": null,
      "metadata": {
        "colab": {
          "base_uri": "https://localhost:8080/"
        },
        "id": "XFRn7m5VHf0a",
        "outputId": "ac620518-bbde-4933-9811-f8c8c59f70e3"
      },
      "outputs": [
        {
          "output_type": "stream",
          "name": "stdout",
          "text": [
            "Optimal Solution:\n",
            "Number of units of Chocolate A (x1): 2.00\n",
            "Number of units of Chocolate B (x2): 3.00\n",
            "Maximum Profit: Rs 27.00\n"
          ]
        }
      ],
      "source": [
        "from scipy.optimize import linprog\n",
        "\n",
        "c = [-6, -5]\n",
        "\n",
        "A = [[1, 1],\n",
        "     [3, 2]]\n",
        "b = [5, 12]\n",
        "\n",
        "x_bounds = [(0, None),\n",
        "            (0, None)]\n",
        "\n",
        "result = linprog(c, A_ub=A, b_ub=b, bounds=x_bounds, method='highs')\n",
        "\n",
        "if result.success:\n",
        "    print(\"Optimal Solution:\")\n",
        "    print(f\"Number of units of Chocolate A (x1): {result.x[0]:.2f}\")\n",
        "    print(f\"Number of units of Chocolate B (x2): {result.x[1]:.2f}\")\n",
        "    print(f\"Maximum Profit: Rs {-result.fun:.2f}\")\n",
        "else:\n",
        "    print(\"No solution found.\")"
      ]
    },
    {
      "cell_type": "code",
      "source": [
        "from scipy.optimize import linprog\n",
        "\n",
        "c = [-50, -120]\n",
        "\n",
        "A = [[1, 1],\n",
        "     [7000, 2000],\n",
        "     [10, 30]]\n",
        "b = [110, 700000, 1200]\n",
        "\n",
        "x_bounds = [(0, None),\n",
        "            (0, None)]\n",
        "\n",
        "result = linprog(c, A_ub=A, b_ub=b, bounds=x_bounds, method='highs')\n",
        "\n",
        "if result.success:\n",
        "    print(\"Optimal Solution:\")\n",
        "    print(f\"Area allocated to Wheat (x1): {result.x[0]:.2f} hectares\")\n",
        "    print(f\"Area allocated to Barley (x2): {result.x[1]:.2f} hectares\")\n",
        "    print(f\"Maximum Profit: Rs {-result.fun:.2f}\")\n",
        "else:\n",
        "    print(\"No solution found.\")"
      ],
      "metadata": {
        "colab": {
          "base_uri": "https://localhost:8080/"
        },
        "id": "HBLD36PnIX5F",
        "outputId": "7aa67446-15ed-4150-9006-aa7cc7cbef0f"
      },
      "execution_count": null,
      "outputs": [
        {
          "output_type": "stream",
          "name": "stdout",
          "text": [
            "Optimal Solution:\n",
            "Area allocated to Wheat (x1): 97.89 hectares\n",
            "Area allocated to Barley (x2): 7.37 hectares\n",
            "Maximum Profit: Rs 5778.95\n"
          ]
        }
      ]
    }
  ]
}